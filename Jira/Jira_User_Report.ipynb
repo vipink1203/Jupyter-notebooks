{
 "cells": [
  {
   "cell_type": "markdown",
   "metadata": {},
   "source": [
    "### This notebook can be used to create the JIRA user report based on months\n",
    "### You need to download the report from JIRA\n",
    "### Reference for downloading the report - https://community.atlassian.com/t5/Jira-Core-questions/How-to-generate-a-report-and-export-in-excel-sheet/qaq-p/276497\n",
    "### Change the values as needed"
   ]
  },
  {
   "cell_type": "code",
   "execution_count": null,
   "metadata": {},
   "outputs": [],
   "source": [
    "import pandas as pd\n",
    "from vincent.colors import brews"
   ]
  },
  {
   "cell_type": "code",
   "execution_count": null,
   "metadata": {},
   "outputs": [],
   "source": [
    "### Reading Jira report and converting to dataframe\n",
    "### Also Adding a new column called Total_Tickets to get the sum of each users"
   ]
  },
  {
   "cell_type": "code",
   "execution_count": null,
   "metadata": {},
   "outputs": [],
   "source": [
    "df = pd.read_csv('data/JIRA_report.csv')\n",
    "df['Total_Tickets'] = 1\n",
    "df"
   ]
  },
  {
   "cell_type": "code",
   "execution_count": null,
   "metadata": {},
   "outputs": [],
   "source": [
    "### Dropping unwanted columns"
   ]
  },
  {
   "cell_type": "code",
   "execution_count": null,
   "metadata": {},
   "outputs": [],
   "source": [
    "df = df.drop(columns=['Issue id', 'Parent id', 'Issue Type'])"
   ]
  },
  {
   "cell_type": "code",
   "execution_count": null,
   "metadata": {},
   "outputs": [],
   "source": [
    "sub = 'Jan/20'\n",
    "df[\"Indexes\"]= df[\"Created\"].str.find(sub)\n",
    "df"
   ]
  },
  {
   "cell_type": "code",
   "execution_count": null,
   "metadata": {},
   "outputs": [],
   "source": [
    "### Removing rows based on column (Indexes) value"
   ]
  },
  {
   "cell_type": "code",
   "execution_count": null,
   "metadata": {},
   "outputs": [],
   "source": [
    "df = df[df.Indexes != -1]\n",
    "df"
   ]
  },
  {
   "cell_type": "code",
   "execution_count": null,
   "metadata": {},
   "outputs": [],
   "source": [
    "### Adding local path of the final report"
   ]
  },
  {
   "cell_type": "code",
   "execution_count": null,
   "metadata": {},
   "outputs": [],
   "source": [
    "path = r\"/Users/vkumar/Documents/jupyter-notebook/User_Jan_report.xlsx\"\n",
    "writer = pd.ExcelWriter(path, engine = 'xlsxwriter')"
   ]
  },
  {
   "cell_type": "code",
   "execution_count": null,
   "metadata": {},
   "outputs": [],
   "source": [
    "### Creating a new Dataframe called \"df2\" with only the user and total tickets"
   ]
  },
  {
   "cell_type": "code",
   "execution_count": null,
   "metadata": {},
   "outputs": [],
   "source": [
    "df_new = df[['Assignee', 'Total_Tickets']]\n",
    "df2 = df_new.groupby('Assignee')['Total_Tickets'].sum().to_frame().reset_index().sort_values(by='Total_Tickets')\n",
    "df2"
   ]
  },
  {
   "cell_type": "markdown",
   "metadata": {},
   "source": [
    "### Charts For Testing (Optional)"
   ]
  },
  {
   "cell_type": "code",
   "execution_count": null,
   "metadata": {},
   "outputs": [],
   "source": [
    "%matplotlib inline\n",
    "df2.groupby(['Assignee'])['Total_Tickets'].sum().plot(\n",
    "    kind='bar',\n",
    "    figsize=(12,8)\n",
    ")"
   ]
  },
  {
   "cell_type": "code",
   "execution_count": null,
   "metadata": {},
   "outputs": [],
   "source": [
    "%matplotlib inline\n",
    "df2.groupby(['Assignee'])['Total_Tickets'].sum().plot(\n",
    "    kind='barh',\n",
    "    figsize=(12,8)\n",
    ")"
   ]
  },
  {
   "cell_type": "code",
   "execution_count": null,
   "metadata": {},
   "outputs": [],
   "source": [
    "%matplotlib inline\n",
    "chart = df2.groupby(['Assignee'])['Total_Tickets'].sum().plot(\n",
    "    kind='pie',\n",
    "    figsize=(12,8),\n",
    "    colormap='Paired'\n",
    ")"
   ]
  },
  {
   "cell_type": "code",
   "execution_count": null,
   "metadata": {},
   "outputs": [],
   "source": [
    "df = df.drop(columns=['Indexes', 'Total_Tickets'])\n",
    "df.sort_values(by=['Created'], inplace=True)\n",
    "df['Created'] = pd.to_datetime(df['Created'])"
   ]
  },
  {
   "cell_type": "code",
   "execution_count": null,
   "metadata": {},
   "outputs": [],
   "source": [
    "gk = df.groupby('Assignee')\n",
    "Vipin = gk.get_group('vipin.kumar')\n",
    "Kittu = gk.get_group('kittu.sabu')\n",
    "Anudeep = gk.get_group('anudeep.gulla')\n",
    "Harish = gk.get_group('harish.kumar')\n",
    "Subin = gk.get_group('subin.m')\n",
    "Smaran = gk.get_group('smaran.na')\n",
    "gk.get_group('vipin.kumar')"
   ]
  },
  {
   "cell_type": "code",
   "execution_count": null,
   "metadata": {},
   "outputs": [],
   "source": [
    "with pd.ExcelWriter(path) as writer:\n",
    "    df2.to_excel(writer, sheet_name='Overall_Performance', index=False)\n",
    "    Vipin.to_excel(writer, sheet_name='Vipin', index=False)\n",
    "    Kittu.to_excel(writer, sheet_name='Kittu', index=False)\n",
    "    Anudeep.to_excel(writer, sheet_name='Anudeep', index=False)\n",
    "    Harish.to_excel(writer, sheet_name='Harish', index=False)\n",
    "    Smaran.to_excel(writer, sheet_name='Smaran', index=False)\n",
    "    Subin.to_excel(writer, sheet_name='Subin', index=False)\n",
    "    workbook = writer.book\n",
    "    worksheet = writer.sheets['Overall_Performance']\n",
    "    chart = workbook.add_chart({'type': 'bar'})\n",
    "    chart.add_series({\n",
    "        'categories': '=Overall_Performance!A2:A7',\n",
    "        'values':     '=Overall_Performance!B2:B7',\n",
    "        'points': [\n",
    "            {'fill': {'color': brews['Set1'][0]}},\n",
    "            {'fill': {'color': brews['Set1'][1]}},\n",
    "            {'fill': {'color': brews['Set1'][2]}},\n",
    "            {'fill': {'color': brews['Set1'][3]}},\n",
    "            {'fill': {'color': brews['Set1'][4]}},\n",
    "            {'fill': {'color': brews['Set1'][5]}}\n",
    "        ],\n",
    "    })\n",
    "    worksheet.insert_chart('D4', chart)\n",
    "    writer.save()\n",
    "    writer.close()"
   ]
  },
  {
   "cell_type": "code",
   "execution_count": null,
   "metadata": {},
   "outputs": [],
   "source": []
  }
 ],
 "metadata": {
  "kernelspec": {
   "display_name": "Python 3",
   "language": "python",
   "name": "python3"
  },
  "language_info": {
   "codemirror_mode": {
    "name": "ipython",
    "version": 3
   },
   "file_extension": ".py",
   "mimetype": "text/x-python",
   "name": "python",
   "nbconvert_exporter": "python",
   "pygments_lexer": "ipython3",
   "version": "3.7.5"
  }
 },
 "nbformat": 4,
 "nbformat_minor": 4
}
