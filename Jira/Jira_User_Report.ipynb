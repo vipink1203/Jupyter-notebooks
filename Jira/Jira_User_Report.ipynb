{
 "cells": [
  {
   "cell_type": "markdown",
   "metadata": {},
   "source": [
    "### This notebook can be used to create the JIRA user report based on months\n",
    "### You need to download the report from JIRA\n",
    "### Reference for downloading the report - https://community.atlassian.com/t5/Jira-Core-questions/How-to-generate-a-report-and-export-in-excel-sheet/qaq-p/276497\n",
    "### Change the values as needed"
   ]
  },
  {
   "cell_type": "code",
   "execution_count": 1,
   "metadata": {
    "collapsed": true
   },
   "outputs": [],
   "source": [
    "import pandas as pd\n",
    "from vincent.colors import brews"
   ]
  },
  {
   "cell_type": "code",
   "execution_count": 2,
   "metadata": {
    "collapsed": true
   },
   "outputs": [],
   "source": [
    "### Reading Jira report and converting to dataframe\n",
    "### Also Adding a new column called Total_Tickets to get the sum of each users"
   ]
  },
  {
   "cell_type": "code",
   "execution_count": 3,
   "metadata": {},
   "outputs": [
    {
     "data": {
      "text/html": [
       "<div>\n",
       "<style scoped>\n",
       "    .dataframe tbody tr th:only-of-type {\n",
       "        vertical-align: middle;\n",
       "    }\n",
       "\n",
       "    .dataframe tbody tr th {\n",
       "        vertical-align: top;\n",
       "    }\n",
       "\n",
       "    .dataframe thead th {\n",
       "        text-align: right;\n",
       "    }\n",
       "</style>\n",
       "<table border=\"1\" class=\"dataframe\">\n",
       "  <thead>\n",
       "    <tr style=\"text-align: right;\">\n",
       "      <th></th>\n",
       "      <th>Issue Type</th>\n",
       "      <th>Issue key</th>\n",
       "      <th>Issue id</th>\n",
       "      <th>Parent id</th>\n",
       "      <th>Summary</th>\n",
       "      <th>Assignee</th>\n",
       "      <th>Reporter</th>\n",
       "      <th>Priority</th>\n",
       "      <th>Status</th>\n",
       "      <th>Resolution</th>\n",
       "      <th>Created</th>\n",
       "      <th>Updated</th>\n",
       "      <th>Due date</th>\n",
       "      <th>Total_Tickets</th>\n",
       "    </tr>\n",
       "  </thead>\n",
       "  <tbody>\n",
       "    <tr>\n",
       "      <th>0</th>\n",
       "      <td>Task</td>\n",
       "      <td>DSOCS-652</td>\n",
       "      <td>78557</td>\n",
       "      <td>NaN</td>\n",
       "      <td>DSOCS: AWS Security Groups Review</td>\n",
       "      <td>subin.m</td>\n",
       "      <td>devsecops.jira_soccomply</td>\n",
       "      <td>Low</td>\n",
       "      <td>Closed</td>\n",
       "      <td>Done</td>\n",
       "      <td>24/Feb/20 1:05 PM</td>\n",
       "      <td>24/Feb/20 8:50 PM</td>\n",
       "      <td>NaN</td>\n",
       "      <td>1</td>\n",
       "    </tr>\n",
       "    <tr>\n",
       "      <th>1</th>\n",
       "      <td>Task</td>\n",
       "      <td>DSOCS-651</td>\n",
       "      <td>78556</td>\n",
       "      <td>NaN</td>\n",
       "      <td>DSOCS: AWS Elastic IP Review</td>\n",
       "      <td>subin.m</td>\n",
       "      <td>devsecops.jira_soccomply</td>\n",
       "      <td>Low</td>\n",
       "      <td>Closed</td>\n",
       "      <td>Done</td>\n",
       "      <td>24/Feb/20 1:05 PM</td>\n",
       "      <td>24/Feb/20 6:59 PM</td>\n",
       "      <td>NaN</td>\n",
       "      <td>1</td>\n",
       "    </tr>\n",
       "    <tr>\n",
       "      <th>2</th>\n",
       "      <td>Task</td>\n",
       "      <td>DSOCS-650</td>\n",
       "      <td>78555</td>\n",
       "      <td>NaN</td>\n",
       "      <td>DSOCS: Trusted Advisor Review</td>\n",
       "      <td>subin.m</td>\n",
       "      <td>devsecops.jira_soccomply</td>\n",
       "      <td>Low</td>\n",
       "      <td>Closed</td>\n",
       "      <td>Done</td>\n",
       "      <td>24/Feb/20 1:00 PM</td>\n",
       "      <td>24/Feb/20 7:36 PM</td>\n",
       "      <td>NaN</td>\n",
       "      <td>1</td>\n",
       "    </tr>\n",
       "    <tr>\n",
       "      <th>3</th>\n",
       "      <td>Task</td>\n",
       "      <td>DSOCS-648</td>\n",
       "      <td>78553</td>\n",
       "      <td>NaN</td>\n",
       "      <td>DSOCS: Review Alertlogic Config</td>\n",
       "      <td>subin.m</td>\n",
       "      <td>devsecops.jira_soccomply</td>\n",
       "      <td>Low</td>\n",
       "      <td>Closed</td>\n",
       "      <td>Done</td>\n",
       "      <td>24/Feb/20 1:00 PM</td>\n",
       "      <td>24/Feb/20 5:45 PM</td>\n",
       "      <td>NaN</td>\n",
       "      <td>1</td>\n",
       "    </tr>\n",
       "    <tr>\n",
       "      <th>4</th>\n",
       "      <td>Task</td>\n",
       "      <td>DSO-8958</td>\n",
       "      <td>78525</td>\n",
       "      <td>NaN</td>\n",
       "      <td>Setup databricks connect and databricks jupyte...</td>\n",
       "      <td>smaran.na</td>\n",
       "      <td>adarsh.namala</td>\n",
       "      <td>Low</td>\n",
       "      <td>Closed</td>\n",
       "      <td>Done</td>\n",
       "      <td>21/Feb/20 11:28 AM</td>\n",
       "      <td>21/Feb/20 11:32 AM</td>\n",
       "      <td>NaN</td>\n",
       "      <td>1</td>\n",
       "    </tr>\n",
       "    <tr>\n",
       "      <th>...</th>\n",
       "      <td>...</td>\n",
       "      <td>...</td>\n",
       "      <td>...</td>\n",
       "      <td>...</td>\n",
       "      <td>...</td>\n",
       "      <td>...</td>\n",
       "      <td>...</td>\n",
       "      <td>...</td>\n",
       "      <td>...</td>\n",
       "      <td>...</td>\n",
       "      <td>...</td>\n",
       "      <td>...</td>\n",
       "      <td>...</td>\n",
       "      <td>...</td>\n",
       "    </tr>\n",
       "    <tr>\n",
       "      <th>133</th>\n",
       "      <td>Sub-task</td>\n",
       "      <td>DSO-8040</td>\n",
       "      <td>74362</td>\n",
       "      <td>74344.0</td>\n",
       "      <td>googleassistant-watch-aetnd-com</td>\n",
       "      <td>subin.m</td>\n",
       "      <td>harish.kumar</td>\n",
       "      <td>Low</td>\n",
       "      <td>Closed</td>\n",
       "      <td>Done</td>\n",
       "      <td>23/Oct/19 8:25 PM</td>\n",
       "      <td>03/Feb/20 9:16 PM</td>\n",
       "      <td>NaN</td>\n",
       "      <td>1</td>\n",
       "    </tr>\n",
       "    <tr>\n",
       "      <th>134</th>\n",
       "      <td>Sub-task</td>\n",
       "      <td>DSO-8034</td>\n",
       "      <td>74353</td>\n",
       "      <td>74344.0</td>\n",
       "      <td>npm-appsvcs-aetnd-com</td>\n",
       "      <td>subin.m</td>\n",
       "      <td>harish.kumar</td>\n",
       "      <td>Low</td>\n",
       "      <td>Closed</td>\n",
       "      <td>Done</td>\n",
       "      <td>23/Oct/19 8:23 PM</td>\n",
       "      <td>03/Feb/20 9:41 PM</td>\n",
       "      <td>NaN</td>\n",
       "      <td>1</td>\n",
       "    </tr>\n",
       "    <tr>\n",
       "      <th>135</th>\n",
       "      <td>Sub-task</td>\n",
       "      <td>DSO-8030</td>\n",
       "      <td>74348</td>\n",
       "      <td>74344.0</td>\n",
       "      <td>api-aenetworks-com</td>\n",
       "      <td>subin.m</td>\n",
       "      <td>harish.kumar</td>\n",
       "      <td>Low</td>\n",
       "      <td>Closed</td>\n",
       "      <td>Done</td>\n",
       "      <td>23/Oct/19 8:22 PM</td>\n",
       "      <td>10/Feb/20 6:05 PM</td>\n",
       "      <td>NaN</td>\n",
       "      <td>1</td>\n",
       "    </tr>\n",
       "    <tr>\n",
       "      <th>136</th>\n",
       "      <td>Task</td>\n",
       "      <td>DSO-6802</td>\n",
       "      <td>67380</td>\n",
       "      <td>NaN</td>\n",
       "      <td>Decommission push.devops.aetndigital.com</td>\n",
       "      <td>anudeep.gulla</td>\n",
       "      <td>smaran.na</td>\n",
       "      <td>Low</td>\n",
       "      <td>Closed</td>\n",
       "      <td>Done</td>\n",
       "      <td>13/Mar/19 3:56 PM</td>\n",
       "      <td>17/Feb/20 12:10 PM</td>\n",
       "      <td>NaN</td>\n",
       "      <td>1</td>\n",
       "    </tr>\n",
       "    <tr>\n",
       "      <th>137</th>\n",
       "      <td>Sub-task</td>\n",
       "      <td>DSOPA-415</td>\n",
       "      <td>64103</td>\n",
       "      <td>63052.0</td>\n",
       "      <td>opw.mylifetime.com</td>\n",
       "      <td>harish.kumar</td>\n",
       "      <td>removed35150955</td>\n",
       "      <td>Low</td>\n",
       "      <td>Closed</td>\n",
       "      <td>Done</td>\n",
       "      <td>21/Nov/18 3:52 PM</td>\n",
       "      <td>22/Feb/20 10:48 AM</td>\n",
       "      <td>NaN</td>\n",
       "      <td>1</td>\n",
       "    </tr>\n",
       "  </tbody>\n",
       "</table>\n",
       "<p>138 rows × 14 columns</p>\n",
       "</div>"
      ],
      "text/plain": [
       "    Issue Type  Issue key  Issue id  Parent id  \\\n",
       "0         Task  DSOCS-652     78557        NaN   \n",
       "1         Task  DSOCS-651     78556        NaN   \n",
       "2         Task  DSOCS-650     78555        NaN   \n",
       "3         Task  DSOCS-648     78553        NaN   \n",
       "4         Task   DSO-8958     78525        NaN   \n",
       "..         ...        ...       ...        ...   \n",
       "133   Sub-task   DSO-8040     74362    74344.0   \n",
       "134   Sub-task   DSO-8034     74353    74344.0   \n",
       "135   Sub-task   DSO-8030     74348    74344.0   \n",
       "136       Task   DSO-6802     67380        NaN   \n",
       "137   Sub-task  DSOPA-415     64103    63052.0   \n",
       "\n",
       "                                               Summary       Assignee  \\\n",
       "0                    DSOCS: AWS Security Groups Review        subin.m   \n",
       "1                         DSOCS: AWS Elastic IP Review        subin.m   \n",
       "2                        DSOCS: Trusted Advisor Review        subin.m   \n",
       "3                      DSOCS: Review Alertlogic Config        subin.m   \n",
       "4    Setup databricks connect and databricks jupyte...      smaran.na   \n",
       "..                                                 ...            ...   \n",
       "133                    googleassistant-watch-aetnd-com        subin.m   \n",
       "134                              npm-appsvcs-aetnd-com        subin.m   \n",
       "135                                 api-aenetworks-com        subin.m   \n",
       "136           Decommission push.devops.aetndigital.com  anudeep.gulla   \n",
       "137                                 opw.mylifetime.com   harish.kumar   \n",
       "\n",
       "                     Reporter Priority  Status Resolution             Created  \\\n",
       "0    devsecops.jira_soccomply      Low  Closed       Done   24/Feb/20 1:05 PM   \n",
       "1    devsecops.jira_soccomply      Low  Closed       Done   24/Feb/20 1:05 PM   \n",
       "2    devsecops.jira_soccomply      Low  Closed       Done   24/Feb/20 1:00 PM   \n",
       "3    devsecops.jira_soccomply      Low  Closed       Done   24/Feb/20 1:00 PM   \n",
       "4               adarsh.namala      Low  Closed       Done  21/Feb/20 11:28 AM   \n",
       "..                        ...      ...     ...        ...                 ...   \n",
       "133              harish.kumar      Low  Closed       Done   23/Oct/19 8:25 PM   \n",
       "134              harish.kumar      Low  Closed       Done   23/Oct/19 8:23 PM   \n",
       "135              harish.kumar      Low  Closed       Done   23/Oct/19 8:22 PM   \n",
       "136                 smaran.na      Low  Closed       Done   13/Mar/19 3:56 PM   \n",
       "137           removed35150955      Low  Closed       Done   21/Nov/18 3:52 PM   \n",
       "\n",
       "                Updated Due date  Total_Tickets  \n",
       "0     24/Feb/20 8:50 PM      NaN              1  \n",
       "1     24/Feb/20 6:59 PM      NaN              1  \n",
       "2     24/Feb/20 7:36 PM      NaN              1  \n",
       "3     24/Feb/20 5:45 PM      NaN              1  \n",
       "4    21/Feb/20 11:32 AM      NaN              1  \n",
       "..                  ...      ...            ...  \n",
       "133   03/Feb/20 9:16 PM      NaN              1  \n",
       "134   03/Feb/20 9:41 PM      NaN              1  \n",
       "135   10/Feb/20 6:05 PM      NaN              1  \n",
       "136  17/Feb/20 12:10 PM      NaN              1  \n",
       "137  22/Feb/20 10:48 AM      NaN              1  \n",
       "\n",
       "[138 rows x 14 columns]"
      ]
     },
     "execution_count": 3,
     "metadata": {},
     "output_type": "execute_result"
    }
   ],
   "source": [
    "df = pd.read_csv('./jira_updated.csv')\n",
    "df['Total_Tickets'] = 1\n",
    "df"
   ]
  },
  {
   "cell_type": "code",
   "execution_count": 4,
   "metadata": {
    "collapsed": true
   },
   "outputs": [],
   "source": [
    "### Dropping unwanted columns"
   ]
  },
  {
   "cell_type": "code",
   "execution_count": 5,
   "metadata": {
    "collapsed": true
   },
   "outputs": [],
   "source": [
    "df = df.drop(columns=['Issue id', 'Parent id', 'Issue Type', 'Priority', 'Resolution', 'Due date'])"
   ]
  },
  {
   "cell_type": "code",
   "execution_count": 6,
   "metadata": {
    "collapsed": true
   },
   "outputs": [],
   "source": [
    "### Adding local path of the final report"
   ]
  },
  {
   "cell_type": "code",
   "execution_count": 7,
   "metadata": {
    "collapsed": true
   },
   "outputs": [],
   "source": [
    "path = r\"/Users/vkumar/Documents/jupyter-notebook/User_Feb_report.xlsx\"\n",
    "writer = pd.ExcelWriter(path, engine = 'xlsxwriter')"
   ]
  },
  {
   "cell_type": "code",
   "execution_count": 8,
   "metadata": {
    "collapsed": true
   },
   "outputs": [],
   "source": [
    "### Creating a new Dataframe called \"df2\" with only the user and total tickets"
   ]
  },
  {
   "cell_type": "code",
   "execution_count": 9,
   "metadata": {},
   "outputs": [
    {
     "data": {
      "text/html": [
       "<div>\n",
       "<style scoped>\n",
       "    .dataframe tbody tr th:only-of-type {\n",
       "        vertical-align: middle;\n",
       "    }\n",
       "\n",
       "    .dataframe tbody tr th {\n",
       "        vertical-align: top;\n",
       "    }\n",
       "\n",
       "    .dataframe thead th {\n",
       "        text-align: right;\n",
       "    }\n",
       "</style>\n",
       "<table border=\"1\" class=\"dataframe\">\n",
       "  <thead>\n",
       "    <tr style=\"text-align: right;\">\n",
       "      <th></th>\n",
       "      <th>Assignee</th>\n",
       "      <th>Total_Tickets</th>\n",
       "    </tr>\n",
       "  </thead>\n",
       "  <tbody>\n",
       "    <tr>\n",
       "      <th>1</th>\n",
       "      <td>harish.kumar</td>\n",
       "      <td>3</td>\n",
       "    </tr>\n",
       "    <tr>\n",
       "      <th>0</th>\n",
       "      <td>anudeep.gulla</td>\n",
       "      <td>6</td>\n",
       "    </tr>\n",
       "    <tr>\n",
       "      <th>5</th>\n",
       "      <td>vipin.kumar</td>\n",
       "      <td>8</td>\n",
       "    </tr>\n",
       "    <tr>\n",
       "      <th>3</th>\n",
       "      <td>smaran.na</td>\n",
       "      <td>9</td>\n",
       "    </tr>\n",
       "    <tr>\n",
       "      <th>2</th>\n",
       "      <td>kittu.sabu</td>\n",
       "      <td>48</td>\n",
       "    </tr>\n",
       "    <tr>\n",
       "      <th>4</th>\n",
       "      <td>subin.m</td>\n",
       "      <td>64</td>\n",
       "    </tr>\n",
       "  </tbody>\n",
       "</table>\n",
       "</div>"
      ],
      "text/plain": [
       "        Assignee  Total_Tickets\n",
       "1   harish.kumar              3\n",
       "0  anudeep.gulla              6\n",
       "5    vipin.kumar              8\n",
       "3      smaran.na              9\n",
       "2     kittu.sabu             48\n",
       "4        subin.m             64"
      ]
     },
     "execution_count": 9,
     "metadata": {},
     "output_type": "execute_result"
    }
   ],
   "source": [
    "df_new = df[['Assignee', 'Total_Tickets']]\n",
    "df2 = df_new.groupby('Assignee')['Total_Tickets'].sum().to_frame().reset_index().sort_values(by='Total_Tickets')\n",
    "df2"
   ]
  },
  {
   "cell_type": "markdown",
   "metadata": {},
   "source": [
    "### Charts For Testing (Optional)"
   ]
  },
  {
   "cell_type": "code",
   "execution_count": 10,
   "metadata": {},
   "outputs": [
    {
     "data": {
      "text/plain": [
       "<matplotlib.axes._subplots.AxesSubplot at 0x112426b10>"
      ]
     },
     "execution_count": 10,
     "metadata": {},
     "output_type": "execute_result"
    },
    {
     "data": {
      "image/png": "[encoded data removed]",
      "text/plain": [
       "<Figure size 864x576 with 1 Axes>"
      ]
     },
     "metadata": {
      "needs_background": "light"
     },
     "output_type": "display_data"
    }
   ],
   "source": [
    "%matplotlib inline\n",
    "df2.groupby(['Assignee'])['Total_Tickets'].sum().plot(\n",
    "    kind='bar',\n",
    "    figsize=(12,8)\n",
    ")"
   ]
  },
  {
   "cell_type": "code",
   "execution_count": 11,
   "metadata": {},
   "outputs": [
    {
     "data": {
      "text/plain": [
       "<matplotlib.axes._subplots.AxesSubplot at 0x1147db590>"
      ]
     },
     "execution_count": 11,
     "metadata": {},
     "output_type": "execute_result"
    },
    {
     "data": {
      "image/png": "[encoded data removed]",
      "text/plain": [
       "<Figure size 864x576 with 1 Axes>"
      ]
     },
     "metadata": {
      "needs_background": "light"
     },
     "output_type": "display_data"
    }
   ],
   "source": [
    "%matplotlib inline\n",
    "df2.groupby(['Assignee'])['Total_Tickets'].sum().plot(\n",
    "    kind='barh',\n",
    "    figsize=(12,8)\n",
    ")"
   ]
  },
  {
   "cell_type": "code",
   "execution_count": 12,
   "metadata": {},
   "outputs": [
    {
     "data": {
      "image/png": "[encoded data removed]",
      "text/plain": [
       "<Figure size 864x576 with 1 Axes>"
      ]
     },
     "metadata": {},
     "output_type": "display_data"
    }
   ],
   "source": [
    "%matplotlib inline\n",
    "chart = df2.groupby(['Assignee'])['Total_Tickets'].sum().plot(\n",
    "    kind='pie',\n",
    "    figsize=(12,8),\n",
    "    colormap='Paired'\n",
    ")"
   ]
  },
  {
   "cell_type": "code",
   "execution_count": 13,
   "metadata": {},
   "outputs": [],
   "source": [
    "df = df.drop(columns=['Total_Tickets'])\n",
    "df.sort_values(by=['Created'], inplace=True)\n",
    "df['Created'] = pd.to_datetime(df['Created'])"
   ]
  },
  {
   "cell_type": "code",
   "execution_count": 14,
   "metadata": {},
   "outputs": [
    {
     "data": {
      "text/html": [
       "<div>\n",
       "<style scoped>\n",
       "    .dataframe tbody tr th:only-of-type {\n",
       "        vertical-align: middle;\n",
       "    }\n",
       "\n",
       "    .dataframe tbody tr th {\n",
       "        vertical-align: top;\n",
       "    }\n",
       "\n",
       "    .dataframe thead th {\n",
       "        text-align: right;\n",
       "    }\n",
       "</style>\n",
       "<table border=\"1\" class=\"dataframe\">\n",
       "  <thead>\n",
       "    <tr style=\"text-align: right;\">\n",
       "      <th></th>\n",
       "      <th>Issue key</th>\n",
       "      <th>Summary</th>\n",
       "      <th>Assignee</th>\n",
       "      <th>Reporter</th>\n",
       "      <th>Status</th>\n",
       "      <th>Created</th>\n",
       "      <th>Updated</th>\n",
       "    </tr>\n",
       "  </thead>\n",
       "  <tbody>\n",
       "    <tr>\n",
       "      <th>69</th>\n",
       "      <td>VIP-2972</td>\n",
       "      <td>Create CRON for iterable</td>\n",
       "      <td>vipin.kumar</td>\n",
       "      <td>Djamshed.Melikov</td>\n",
       "      <td>DONE</td>\n",
       "      <td>2020-02-04 22:00:00</td>\n",
       "      <td>21/Feb/20 9:08 PM</td>\n",
       "    </tr>\n",
       "    <tr>\n",
       "      <th>70</th>\n",
       "      <td>VIP-2971</td>\n",
       "      <td>Deactivate Naseer's account</td>\n",
       "      <td>vipin.kumar</td>\n",
       "      <td>Djamshed.Melikov</td>\n",
       "      <td>DONE</td>\n",
       "      <td>2020-02-04 21:35:00</td>\n",
       "      <td>05/Feb/20 12:49 PM</td>\n",
       "    </tr>\n",
       "    <tr>\n",
       "      <th>67</th>\n",
       "      <td>VIP-2975</td>\n",
       "      <td>Patch Update - extractor-vip-aetnd-com</td>\n",
       "      <td>vipin.kumar</td>\n",
       "      <td>Djamshed.Melikov</td>\n",
       "      <td>DONE</td>\n",
       "      <td>2020-02-05 14:29:00</td>\n",
       "      <td>05/Feb/20 10:20 PM</td>\n",
       "    </tr>\n",
       "    <tr>\n",
       "      <th>53</th>\n",
       "      <td>VIP-2978</td>\n",
       "      <td>Provide Developer access to Naheed</td>\n",
       "      <td>vipin.kumar</td>\n",
       "      <td>Djamshed.Melikov</td>\n",
       "      <td>DONE</td>\n",
       "      <td>2020-02-06 20:52:00</td>\n",
       "      <td>07/Feb/20 6:20 PM</td>\n",
       "    </tr>\n",
       "    <tr>\n",
       "      <th>50</th>\n",
       "      <td>VIP-2981</td>\n",
       "      <td>Patch Update - api-vip-aetndigital-com</td>\n",
       "      <td>vipin.kumar</td>\n",
       "      <td>vipin.kumar</td>\n",
       "      <td>DONE</td>\n",
       "      <td>2020-02-07 18:37:00</td>\n",
       "      <td>21/Feb/20 9:09 PM</td>\n",
       "    </tr>\n",
       "    <tr>\n",
       "      <th>26</th>\n",
       "      <td>VIP-2984</td>\n",
       "      <td>CDR : Integrate local JupyterLab with Databricks</td>\n",
       "      <td>vipin.kumar</td>\n",
       "      <td>vipin.kumar</td>\n",
       "      <td>DONE</td>\n",
       "      <td>2020-02-12 19:50:00</td>\n",
       "      <td>20/Feb/20 3:06 PM</td>\n",
       "    </tr>\n",
       "    <tr>\n",
       "      <th>129</th>\n",
       "      <td>DSOPA-667</td>\n",
       "      <td>Create Documentation for Problem Management</td>\n",
       "      <td>vipin.kumar</td>\n",
       "      <td>Neeraj.Mendiratta</td>\n",
       "      <td>Closed</td>\n",
       "      <td>2019-11-14 16:20:00</td>\n",
       "      <td>20/Feb/20 2:59 PM</td>\n",
       "    </tr>\n",
       "    <tr>\n",
       "      <th>16</th>\n",
       "      <td>VIP-2992</td>\n",
       "      <td>Move all of Marcin's dashboards to a repository</td>\n",
       "      <td>vipin.kumar</td>\n",
       "      <td>Djamshed.Melikov</td>\n",
       "      <td>DONE</td>\n",
       "      <td>2020-02-15 01:05:00</td>\n",
       "      <td>21/Feb/20 9:19 PM</td>\n",
       "    </tr>\n",
       "  </tbody>\n",
       "</table>\n",
       "</div>"
      ],
      "text/plain": [
       "     Issue key                                           Summary     Assignee  \\\n",
       "69    VIP-2972                          Create CRON for iterable  vipin.kumar   \n",
       "70    VIP-2971                       Deactivate Naseer's account  vipin.kumar   \n",
       "67    VIP-2975            Patch Update - extractor-vip-aetnd-com  vipin.kumar   \n",
       "53    VIP-2978                Provide Developer access to Naheed  vipin.kumar   \n",
       "50    VIP-2981            Patch Update - api-vip-aetndigital-com  vipin.kumar   \n",
       "26    VIP-2984  CDR : Integrate local JupyterLab with Databricks  vipin.kumar   \n",
       "129  DSOPA-667       Create Documentation for Problem Management  vipin.kumar   \n",
       "16    VIP-2992   Move all of Marcin's dashboards to a repository  vipin.kumar   \n",
       "\n",
       "              Reporter  Status             Created             Updated  \n",
       "69    Djamshed.Melikov    DONE 2020-02-04 22:00:00   21/Feb/20 9:08 PM  \n",
       "70    Djamshed.Melikov    DONE 2020-02-04 21:35:00  05/Feb/20 12:49 PM  \n",
       "67    Djamshed.Melikov    DONE 2020-02-05 14:29:00  05/Feb/20 10:20 PM  \n",
       "53    Djamshed.Melikov    DONE 2020-02-06 20:52:00   07/Feb/20 6:20 PM  \n",
       "50         vipin.kumar    DONE 2020-02-07 18:37:00   21/Feb/20 9:09 PM  \n",
       "26         vipin.kumar    DONE 2020-02-12 19:50:00   20/Feb/20 3:06 PM  \n",
       "129  Neeraj.Mendiratta  Closed 2019-11-14 16:20:00   20/Feb/20 2:59 PM  \n",
       "16    Djamshed.Melikov    DONE 2020-02-15 01:05:00   21/Feb/20 9:19 PM  "
      ]
     },
     "execution_count": 14,
     "metadata": {},
     "output_type": "execute_result"
    }
   ],
   "source": [
    "gk = df.groupby('Assignee')\n",
    "Vipin = gk.get_group('vipin.kumar')\n",
    "Kittu = gk.get_group('kittu.sabu')\n",
    "Anudeep = gk.get_group('anudeep.gulla')\n",
    "Harish = gk.get_group('harish.kumar')\n",
    "Subin = gk.get_group('subin.m')\n",
    "Smaran = gk.get_group('smaran.na')\n",
    "gk.get_group('vipin.kumar')"
   ]
  },
  {
   "cell_type": "code",
   "execution_count": 15,
   "metadata": {
    "collapsed": true
   },
   "outputs": [],
   "source": [
    "with pd.ExcelWriter(path) as writer:\n",
    "    df2.to_excel(writer, sheet_name='Overall_Performance', index=False)\n",
    "    Vipin.to_excel(writer, sheet_name='Vipin', index=False)\n",
    "    Kittu.to_excel(writer, sheet_name='Kittu', index=False)\n",
    "    Anudeep.to_excel(writer, sheet_name='Anudeep', index=False)\n",
    "    Harish.to_excel(writer, sheet_name='Harish', index=False)\n",
    "    Smaran.to_excel(writer, sheet_name='Smaran', index=False)\n",
    "    Subin.to_excel(writer, sheet_name='Subin', index=False)\n",
    "    workbook = writer.book\n",
    "    worksheet = writer.sheets['Overall_Performance']\n",
    "    chart = workbook.add_chart({'type': 'bar'})\n",
    "    chart.add_series({\n",
    "        'categories': '=Overall_Performance!A2:A7',\n",
    "        'values':     '=Overall_Performance!B2:B7',\n",
    "        'points': [\n",
    "            {'fill': {'color': brews['Set1'][0]}},\n",
    "            {'fill': {'color': brews['Set1'][1]}},\n",
    "            {'fill': {'color': brews['Set1'][2]}},\n",
    "            {'fill': {'color': brews['Set1'][3]}},\n",
    "            {'fill': {'color': brews['Set1'][4]}},\n",
    "            {'fill': {'color': brews['Set1'][5]}}\n",
    "        ],\n",
    "    })\n",
    "    worksheet.insert_chart('D4', chart)\n",
    "    writer.save()\n",
    "    writer.close()"
   ]
  },
  {
   "cell_type": "code",
   "execution_count": null,
   "metadata": {
    "collapsed": true
   },
   "outputs": [],
   "source": []
  }
 ],
 "metadata": {
  "kernelspec": {
   "display_name": "Python 3",
   "language": "python",
   "name": "python3"
  },
  "language_info": {
   "codemirror_mode": {
    "name": "ipython",
    "version": 3
   },
   "file_extension": ".py",
   "mimetype": "text/x-python",
   "name": "python",
   "nbconvert_exporter": "python",
   "pygments_lexer": "ipython3",
   "version": "3.7.5"
  }
 },
 "nbformat": 4,
 "nbformat_minor": 4
}
