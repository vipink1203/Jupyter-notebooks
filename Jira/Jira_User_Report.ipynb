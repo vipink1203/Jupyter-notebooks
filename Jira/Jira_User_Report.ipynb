{
 "cells": [
  {
   "cell_type": "markdown",
   "metadata": {},
   "source": [
    "### This notebook can be used to create the JIRA user report based on months\n",
    "### You need to download the report from JIRA\n",
    "### Reference for downloading the report - https://community.atlassian.com/t5/Jira-Core-questions/How-to-generate-a-report-and-export-in-excel-sheet/qaq-p/276497\n",
    "### Change the values as needed"
   ]
  },
  {
   "cell_type": "code",
   "execution_count": null,
   "metadata": {},
   "outputs": [],
   "source": [
    "import pandas as pd"
   ]
  },
  {
   "cell_type": "code",
   "execution_count": null,
   "metadata": {},
   "outputs": [],
   "source": [
    "df = pd.read_csv('data/jira_report.csv')"
   ]
  },
  {
   "cell_type": "code",
   "execution_count": null,
   "metadata": {},
   "outputs": [],
   "source": [
    "df = df.drop(columns=['Issue id', 'Parent id', 'Issue Type'])"
   ]
  },
  {
   "cell_type": "code",
   "execution_count": null,
   "metadata": {},
   "outputs": [],
   "source": [
    "sub = 'Jan/20'\n",
    "df[\"Indexes\"]= df[\"Created\"].str.find(sub)\n",
    "df"
   ]
  },
  {
   "cell_type": "markdown",
   "metadata": {},
   "source": [
    "# Removing rows based on column (Indexes) value"
   ]
  },
  {
   "cell_type": "code",
   "execution_count": null,
   "metadata": {},
   "outputs": [],
   "source": [
    "df = df[df.Indexes != -1]\n",
    "df = df.drop(columns=['Indexes'])"
   ]
  },
  {
   "cell_type": "code",
   "execution_count": null,
   "metadata": {},
   "outputs": [],
   "source": [
    "df.sort_values(by=['Created'], inplace=True)\n",
    "df['Created'] = pd.to_datetime(df['Created'])\n",
    "df"
   ]
  },
  {
   "cell_type": "code",
   "execution_count": null,
   "metadata": {},
   "outputs": [],
   "source": [
    "gk = df.groupby('Assignee')\n",
    "\n",
    "Kittu = gk.get_group('kittu.sabu')\n",
    "Anudeep = gk.get_group('anudeep.gulla')\n",
    "Harish = gk.get_group('harish.kumar')\n",
    "Subin = gk.get_group('subin.m')\n",
    "Smaran = gk.get_group('smaran.na')\n",
    "gk.groups"
   ]
  },
  {
   "cell_type": "code",
   "execution_count": null,
   "metadata": {},
   "outputs": [],
   "source": [
    "path = r\"/Users/vkumar/Documents/jupyter-notebook/User_Jan_report.xlsx\"\n",
    "writer = pd.ExcelWriter(path, engine = 'xlsxwriter')"
   ]
  },
  {
   "cell_type": "code",
   "execution_count": null,
   "metadata": {},
   "outputs": [],
   "source": [
    "Kittu.to_excel(writer, sheet_name='Kittu', index=False)\n",
    "Anudeep.to_excel(writer, sheet_name='Anudeep', index=False)\n",
    "Harish.to_excel(writer, sheet_name='Harish', index=False)\n",
    "Smaran.to_excel(writer, sheet_name='Smaran', index=False)\n",
    "Subin.to_excel(writer, sheet_name='Subin', index=False)\n",
    "writer.save()\n",
    "writer.close()"
   ]
  }
 ],
 "metadata": {
  "kernelspec": {
   "display_name": "Python 3",
   "language": "python",
   "name": "python3"
  },
  "language_info": {
   "codemirror_mode": {
    "name": "ipython",
    "version": 3
   },
   "file_extension": ".py",
   "mimetype": "text/x-python",
   "name": "python",
   "nbconvert_exporter": "python",
   "pygments_lexer": "ipython3",
   "version": "3.7.5"
  }
 },
 "nbformat": 4,
 "nbformat_minor": 4
}
